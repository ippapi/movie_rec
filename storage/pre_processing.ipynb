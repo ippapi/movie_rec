{
  "nbformat": 4,
  "nbformat_minor": 0,
  "metadata": {
    "colab": {
      "provenance": []
    },
    "kernelspec": {
      "name": "python3",
      "display_name": "Python 3"
    },
    "language_info": {
      "name": "python"
    }
  },
  "cells": [
    {
      "cell_type": "code",
      "execution_count": 1,
      "metadata": {
        "colab": {
          "base_uri": "https://localhost:8080/"
        },
        "id": "xQbS2xvOADfB",
        "outputId": "9c1ebaaa-481d-432c-ec0b-d17a986eeca7"
      },
      "outputs": [
        {
          "output_type": "stream",
          "name": "stdout",
          "text": [
            "Mounted at /content/drive\n"
          ]
        }
      ],
      "source": [
        "from google.colab import drive\n",
        "drive.mount('/content/drive')\n",
        "\n",
        "import pandas as pd\n",
        "import numpy as np"
      ]
    },
    {
      "cell_type": "code",
      "source": [
        "movie_df = pd.read_csv(\"/content/drive/MyDrive/Azure/movie_titles.csv\", encoding=\"latin1\", usecols=[0, 1, 2], header = None)\n",
        "movie_df.columns = [\"movie_id\", \"year\", \"name\"]\n",
        "movie_df.info()\n",
        "print(movie_df.head())\n",
        "print(\"===========Null nums===========\")\n",
        "print(movie_df.isnull().sum())\n",
        "print(\"===========Duplicated nums===========\")\n",
        "print(movie_df.duplicated().sum())"
      ],
      "metadata": {
        "colab": {
          "base_uri": "https://localhost:8080/"
        },
        "id": "RvjQh-FZBMsF",
        "outputId": "7dd0252a-abb9-4bf5-87b7-f648e98fc82c"
      },
      "execution_count": null,
      "outputs": [
        {
          "output_type": "stream",
          "name": "stdout",
          "text": [
            "<class 'pandas.core.frame.DataFrame'>\n",
            "RangeIndex: 17770 entries, 0 to 17769\n",
            "Data columns (total 3 columns):\n",
            " #   Column    Non-Null Count  Dtype  \n",
            "---  ------    --------------  -----  \n",
            " 0   movie_id  17770 non-null  int64  \n",
            " 1   year      17763 non-null  float64\n",
            " 2   name      17770 non-null  object \n",
            "dtypes: float64(1), int64(1), object(1)\n",
            "memory usage: 416.6+ KB\n",
            "   movie_id    year                          name\n",
            "0         1  2003.0               Dinosaur Planet\n",
            "1         2  2004.0    Isle of Man TT 2004 Review\n",
            "2         3  1997.0                     Character\n",
            "3         4  1994.0  Paula Abdul's Get Up & Dance\n",
            "4         5  2004.0      The Rise and Fall of ECW\n",
            "===========Null nums===========\n",
            "movie_id    0\n",
            "year        7\n",
            "name        0\n",
            "dtype: int64\n",
            "===========Duplicated nums===========\n",
            "0\n"
          ]
        }
      ]
    },
    {
      "cell_type": "code",
      "source": [
        "interact_df_1 = pd.read_csv(\"/content/drive/MyDrive/Azure/combined_data_1.txt\", skiprows = 1, sep = ',', usecols=[0, 1, 2], header = None)\n",
        "interact_df_2 = pd.read_csv(\"/content/drive/MyDrive/Azure/combined_data_2.txt\", skiprows = 1, sep = ',', usecols=[0, 1, 2], header = None)\n",
        "interact_df = pd.concat([interact_df_1, interact_df_2])\n",
        "interact_df.columns = [\"user_id\", \"movie_id\", \"date\"]\n",
        "interact_df.info()\n",
        "print(interact_df.head())"
      ],
      "metadata": {
        "colab": {
          "base_uri": "https://localhost:8080/"
        },
        "id": "vvqosJN_BcVP",
        "outputId": "c82a6629-c7b3-453a-dad0-33235e46c7b7"
      },
      "execution_count": null,
      "outputs": [
        {
          "output_type": "stream",
          "name": "stdout",
          "text": [
            "<class 'pandas.core.frame.DataFrame'>\n",
            "Index: 51040563 entries, 0 to 26982300\n",
            "Data columns (total 3 columns):\n",
            " #   Column    Dtype  \n",
            "---  ------    -----  \n",
            " 0   user_id   object \n",
            " 1   movie_id  float64\n",
            " 2   date      object \n",
            "dtypes: float64(1), object(2)\n",
            "memory usage: 1.5+ GB\n",
            "   user_id  movie_id        date\n",
            "0  1488844       3.0  2005-09-06\n",
            "1   822109       5.0  2005-05-13\n",
            "2   885013       4.0  2005-10-19\n",
            "3    30878       4.0  2005-12-26\n",
            "4   823519       3.0  2004-05-03\n"
          ]
        }
      ]
    },
    {
      "cell_type": "code",
      "source": [
        "interact_df.isnull().sum()"
      ],
      "metadata": {
        "colab": {
          "base_uri": "https://localhost:8080/",
          "height": 178
        },
        "id": "02XTa2ZwCfsv",
        "outputId": "dc54032a-468e-4064-e2ca-8448fc53bf87"
      },
      "execution_count": null,
      "outputs": [
        {
          "output_type": "execute_result",
          "data": {
            "text/plain": [
              "user_id        0\n",
              "movie_id    9208\n",
              "date        9208\n",
              "dtype: int64"
            ],
            "text/html": [
              "<div>\n",
              "<style scoped>\n",
              "    .dataframe tbody tr th:only-of-type {\n",
              "        vertical-align: middle;\n",
              "    }\n",
              "\n",
              "    .dataframe tbody tr th {\n",
              "        vertical-align: top;\n",
              "    }\n",
              "\n",
              "    .dataframe thead th {\n",
              "        text-align: right;\n",
              "    }\n",
              "</style>\n",
              "<table border=\"1\" class=\"dataframe\">\n",
              "  <thead>\n",
              "    <tr style=\"text-align: right;\">\n",
              "      <th></th>\n",
              "      <th>0</th>\n",
              "    </tr>\n",
              "  </thead>\n",
              "  <tbody>\n",
              "    <tr>\n",
              "      <th>user_id</th>\n",
              "      <td>0</td>\n",
              "    </tr>\n",
              "    <tr>\n",
              "      <th>movie_id</th>\n",
              "      <td>9208</td>\n",
              "    </tr>\n",
              "    <tr>\n",
              "      <th>date</th>\n",
              "      <td>9208</td>\n",
              "    </tr>\n",
              "  </tbody>\n",
              "</table>\n",
              "</div><br><label><b>dtype:</b> int64</label>"
            ]
          },
          "metadata": {},
          "execution_count": 25
        }
      ]
    },
    {
      "cell_type": "code",
      "source": [
        "interact_df = interact_df[interact_df[\"movie_id\"].notna()]"
      ],
      "metadata": {
        "id": "8VTSuQutJXVr"
      },
      "execution_count": null,
      "outputs": []
    },
    {
      "cell_type": "code",
      "source": [
        "duplicated_df = interact_df[interact_df.duplicated()]\n",
        "print(duplicated_df)"
      ],
      "metadata": {
        "colab": {
          "base_uri": "https://localhost:8080/"
        },
        "id": "xfp8o24VCS0o",
        "outputId": "fbc11c43-e9e7-477c-cc7d-18a8fbeab906"
      },
      "execution_count": null,
      "outputs": [
        {
          "output_type": "stream",
          "name": "stdout",
          "text": [
            "          user_id  movie_id        date\n",
            "689        515436       1.0  2005-02-13\n",
            "3041       636262       1.0  2005-08-23\n",
            "3221       618272       1.0  2005-08-14\n",
            "3435       261764       1.0  2005-11-10\n",
            "3607      2147527       1.0  2005-11-18\n",
            "...           ...       ...         ...\n",
            "26982296  2420260       1.0  2003-12-01\n",
            "26982297   761176       3.0  2004-06-06\n",
            "26982298   459277       3.0  2005-02-25\n",
            "26982299  2407365       4.0  2005-04-29\n",
            "26982300   627867       3.0  2005-05-02\n",
            "\n",
            "[31178906 rows x 3 columns]\n"
          ]
        }
      ]
    },
    {
      "cell_type": "code",
      "source": [
        "interact_df = interact_df.drop_duplicates()"
      ],
      "metadata": {
        "id": "yKfqWV_aKlSd"
      },
      "execution_count": null,
      "outputs": []
    },
    {
      "cell_type": "code",
      "source": [
        "interact_df.info()"
      ],
      "metadata": {
        "colab": {
          "base_uri": "https://localhost:8080/"
        },
        "id": "SBVCGjpIKvyk",
        "outputId": "506fa8b3-00a2-4ee4-b839-cf795fc0228a"
      },
      "execution_count": null,
      "outputs": [
        {
          "output_type": "stream",
          "name": "stdout",
          "text": [
            "<class 'pandas.core.frame.DataFrame'>\n",
            "Index: 19852449 entries, 0 to 26982295\n",
            "Data columns (total 3 columns):\n",
            " #   Column    Dtype  \n",
            "---  ------    -----  \n",
            " 0   user_id   object \n",
            " 1   movie_id  float64\n",
            " 2   date      object \n",
            "dtypes: float64(1), object(2)\n",
            "memory usage: 605.8+ MB\n"
          ]
        }
      ]
    },
    {
      "cell_type": "code",
      "source": [
        "interact_df['date'] = pd.to_datetime(interact_df['date'])\n",
        "\n",
        "user_movies = (\n",
        "    interact_df.sort_values([\"user_id\", \"date\"], ascending=[True, False])\n",
        "        .groupby(\"user_id\")\n",
        "        .head(20)\n",
        ")"
      ],
      "metadata": {
        "colab": {
          "base_uri": "https://localhost:8080/"
        },
        "id": "hBEvDh--Lmk6",
        "outputId": "94c6cfea-b749-4b61-89a0-052d591cebc6"
      },
      "execution_count": null,
      "outputs": [
        {
          "output_type": "stream",
          "name": "stderr",
          "text": [
            "/tmp/ipython-input-3277328941.py:1: SettingWithCopyWarning: \n",
            "A value is trying to be set on a copy of a slice from a DataFrame.\n",
            "Try using .loc[row_indexer,col_indexer] = value instead\n",
            "\n",
            "See the caveats in the documentation: https://pandas.pydata.org/pandas-docs/stable/user_guide/indexing.html#returning-a-view-versus-a-copy\n",
            "  interact_df['date'] = pd.to_datetime(interact_df['date'])\n"
          ]
        }
      ]
    },
    {
      "cell_type": "code",
      "source": [
        "user_movies.to_parquet(\"user_movies.parquet\", engine=\"pyarrow\", index=False)\n",
        "movie_df.to_parquet(\"movie_df.parquet\", engine=\"pyarrow\", index=False)"
      ],
      "metadata": {
        "id": "i8vLIcp2NY7s"
      },
      "execution_count": null,
      "outputs": []
    },
    {
      "cell_type": "code",
      "source": [
        "import pandas as pd\n",
        "import random\n",
        "\n",
        "user_id = user_movies[\"user_id\"].unique()\n",
        "\n",
        "ho = [\"Nguyễn\", \"Trần\", \"Lê\", \"Phạm\", \"Hoàng\", \"Vũ\", \"Đặng\", \"Bùi\", \"Đỗ\", \"Ngô\"]\n",
        "dem = [\"Văn\", \"Thị\", \"Hồng\", \"Quốc\", \"Minh\", \"Thành\", \"Thu\", \"Ngọc\", \"Đức\", \"Thanh\", \"Thiên\"]\n",
        "ten = [\"Anh\", \"Bình\", \"Cường\", \"Dũng\", \"Hà\", \"Hùng\", \"Lan\", \"Mai\", \"Nam\", \"Trang\", \"Phong\", \"Duyên\", \"Kim\"]\n",
        "\n",
        "def gen_name():\n",
        "    return f\"{random.choice(ho)} {random.choice(dem)} {random.choice(ten)}\"\n",
        "\n",
        "user_df = pd.DataFrame({\n",
        "    \"user_id\": user_id,\n",
        "    \"name\": [gen_name() for _ in range(len(user_id))]\n",
        "})"
      ],
      "metadata": {
        "id": "l2wzNaDDOaWx"
      },
      "execution_count": null,
      "outputs": []
    },
    {
      "cell_type": "code",
      "source": [
        "user_df.to_parquet(\"users.parquet\", engine=\"pyarrow\", index=False)"
      ],
      "metadata": {
        "id": "iJFXRrSEP_oD"
      },
      "execution_count": null,
      "outputs": []
    },
    {
      "cell_type": "code",
      "source": [
        "movie_df = pd.read_parquet(\"/content/drive/MyDrive/Azure/prepared_data/movies.parquet\")\n",
        "user_movies = pd.read_parquet(\"/content/drive/MyDrive/Azure/prepared_data/user_movies.parquet\")"
      ],
      "metadata": {
        "id": "Hd0uHipSw-_c"
      },
      "execution_count": 31,
      "outputs": []
    },
    {
      "cell_type": "code",
      "source": [
        "user_movies = user_movies[user_movies[\"movie_id\"].isin(movie_df[\"movie_id\"])]"
      ],
      "metadata": {
        "id": "kKDLSXKfzNbG"
      },
      "execution_count": 32,
      "outputs": []
    },
    {
      "cell_type": "code",
      "source": [
        "user_movies = user_movies.groupby(\"user_id\")[\"movie_id\"].apply(list).reset_index()"
      ],
      "metadata": {
        "id": "QSyyBfV0zh4g"
      },
      "execution_count": 33,
      "outputs": []
    },
    {
      "cell_type": "code",
      "source": [
        "user_movies = user_movies[user_movies[\"movie_id\"].apply(len) >= 12]"
      ],
      "metadata": {
        "id": "X_eH8tLZ0Iqg"
      },
      "execution_count": 34,
      "outputs": []
    },
    {
      "cell_type": "code",
      "source": [
        "user_movies = user_movies.reset_index(drop = True)"
      ],
      "metadata": {
        "id": "-aZ-MehW0cT7"
      },
      "execution_count": 47,
      "outputs": []
    },
    {
      "cell_type": "code",
      "source": [
        "train_df = pd.DataFrame({\n",
        "    'user_id': user_movies['user_id'],\n",
        "    'feature': user_movies['movie_id'].apply(lambda x: x[:-2])\n",
        "})\n",
        "\n",
        "dev_df = pd.DataFrame({\n",
        "    'user_id': user_movies['user_id'],\n",
        "    'dev_label': user_movies['movie_id'].apply(lambda x: x[-2:-1])\n",
        "})\n",
        "\n",
        "test_df = pd.DataFrame({\n",
        "    'user_id': user_movies['user_id'],\n",
        "    'test_label': user_movies['movie_id'].apply(lambda x: x[-1:])\n",
        "})\n",
        "\n",
        "train_df.to_parquet(\"train.parquet\", engine=\"pyarrow\", index=False)\n",
        "dev_df.to_parquet(\"dev.parquet\", engine=\"pyarrow\", index=False)\n",
        "test_df.to_parquet(\"test.parquet\", engine=\"pyarrow\", index=False)"
      ],
      "metadata": {
        "id": "QQtLLUrO1jQs"
      },
      "execution_count": 48,
      "outputs": []
    },
    {
      "cell_type": "code",
      "source": [
        "all_df = pd.DataFrame({\n",
        "    'user_id': user_movies['user_id'],\n",
        "    'feature': user_movies['movie_id']\n",
        "})\n",
        "\n",
        "all_df.to_parquet(\"all.parquet\", engine=\"pyarrow\", index=False)"
      ],
      "metadata": {
        "id": "Ymkdv0s029aB"
      },
      "execution_count": 50,
      "outputs": []
    }
  ]
}